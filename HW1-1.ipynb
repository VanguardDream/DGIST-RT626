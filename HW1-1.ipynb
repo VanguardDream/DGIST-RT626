{
 "metadata": {
  "orig_nbformat": 2,
  "kernelspec": {
   "name": "python3",
   "display_name": "Python 3",
   "language": "python"
  },
  "metadata": {
   "interpreter": {
    "hash": "2db524e06e9f5f4ffedc911c917cb75e12dbc923643829bf417064a77eb14d37"
   }
  }
 },
 "nbformat": 4,
 "nbformat_minor": 2,
 "cells": [
  {
   "source": [
    "# RT626 HW1 #1 Keggle 이미지 세트를 활용하여 CNN 구성하기 \n",
    "## Directory 구조 조정하기\n",
    "\n",
    "기본 데이터셋에는 25000장의 사진이 있는데 문제에서 제시한 바와 같이 Train에 1000장 Validation에 500장 Test에 500장을 할당하는 과정을 진행"
   ],
   "cell_type": "markdown",
   "metadata": {}
  },
  {
   "cell_type": "code",
   "execution_count": 8,
   "metadata": {},
   "outputs": [],
   "source": [
    "import os, shutil\n",
    "\n",
    "exec_path = os.getcwd()\n",
    "root_path = os.path.join(exec_path,'dataset\\\\dogs-vs-cats')\n",
    "\n",
    "origin_trainset_path = os.path.join(root_path,'train')\n",
    "\n",
    "new_trainset_path = os.path.join(root_path,'n_train')\n",
    "new_validationset_path = os.path.join(root_path,'n_validation')\n",
    "new_testset_path = os.path.join(root_path,'n_test')\n",
    "\n",
    "if not(os.path.isdir(new_trainset_path)):\n",
    "    os.mkdir(new_trainset_path)\n",
    "if not(os.path.isdir(new_validationset_path)):\n",
    "    os.mkdir(new_validationset_path)\n",
    "if not(os.path.isdir(new_testset_path)):\n",
    "    os.mkdir(new_testset_path)\n",
    "\n",
    "\n"
   ]
  },
  {
   "source": [
    "## 필요한 File 복사하기\n",
    "만들어진 Directory에 많은 양의 데이터에서 소량의 데이터만 가져오는 코드"
   ],
   "cell_type": "markdown",
   "metadata": {}
  },
  {
   "cell_type": "code",
   "execution_count": 10,
   "metadata": {},
   "outputs": [],
   "source": [
    "fnames = ['cat.{}.jpg'.format(i) for i in range(500)]\n",
    "for fname in fnames:\n",
    "    src = os.path.join(origin_trainset_path, fname)\n",
    "    dst = os.path.join(new_trainset_path, fname)\n",
    "    shutil.copy(src, dst)\n",
    "\n",
    "fnames = ['cat.{}.jpg'.format(i) for i in range(500,750)]\n",
    "for fname in fnames:\n",
    "    src = os.path.join(origin_trainset_path, fname)\n",
    "    dst = os.path.join(new_validationset_path, fname)\n",
    "    shutil.copy(src, dst)\n",
    "\n",
    "fnames = ['cat.{}.jpg'.format(i) for i in range(750,1000)]\n",
    "for fname in fnames:\n",
    "    src = os.path.join(origin_trainset_path, fname)\n",
    "    dst = os.path.join(new_testset_path, fname)\n",
    "    shutil.copy(src, dst)\n",
    "\n",
    "fnames = ['dog.{}.jpg'.format(i) for i in range(500)]\n",
    "for fname in fnames:\n",
    "    src = os.path.join(origin_trainset_path, fname)\n",
    "    dst = os.path.join(new_trainset_path, fname)\n",
    "    shutil.copy(src, dst)\n",
    "\n",
    "fnames = ['dog.{}.jpg'.format(i) for i in range(500,750)]\n",
    "for fname in fnames:\n",
    "    src = os.path.join(origin_trainset_path, fname)\n",
    "    dst = os.path.join(new_validationset_path, fname)\n",
    "    shutil.copy(src, dst)\n",
    "\n",
    "fnames = ['dog.{}.jpg'.format(i) for i in range(750,1000)]\n",
    "for fname in fnames:\n",
    "    src = os.path.join(origin_trainset_path, fname)\n",
    "    dst = os.path.join(new_testset_path, fname)\n",
    "    shutil.copy(src, dst)\n"
   ]
  },
  {
   "source": [
    "## CNN 네트워크를 구성하기\n",
    "이번 프로젝트에서는 Keras에서 제공하는 함수를 사용하여 CNN Layer를 생성하고 해당 네트워크를 학습함"
   ],
   "cell_type": "markdown",
   "metadata": {}
  },
  {
   "cell_type": "code",
   "execution_count": 12,
   "metadata": {},
   "outputs": [
    {
     "output_type": "stream",
     "name": "stdout",
     "text": [
      "Model: \"sequential\"\n_________________________________________________________________\nLayer (type)                 Output Shape              Param #   \n=================================================================\nconv2d (Conv2D)              (None, 148, 148, 32)      896       \n_________________________________________________________________\nmax_pooling2d (MaxPooling2D) (None, 74, 74, 32)        0         \n_________________________________________________________________\nconv2d_1 (Conv2D)            (None, 72, 72, 64)        18496     \n_________________________________________________________________\nmax_pooling2d_1 (MaxPooling2 (None, 36, 36, 64)        0         \n_________________________________________________________________\nconv2d_2 (Conv2D)            (None, 34, 34, 128)       73856     \n_________________________________________________________________\nmax_pooling2d_2 (MaxPooling2 (None, 17, 17, 128)       0         \n_________________________________________________________________\nconv2d_3 (Conv2D)            (None, 15, 15, 128)       147584    \n_________________________________________________________________\nmax_pooling2d_3 (MaxPooling2 (None, 7, 7, 128)         0         \n_________________________________________________________________\nflatten (Flatten)            (None, 6272)              0         \n_________________________________________________________________\ndense (Dense)                (None, 512)               3211776   \n_________________________________________________________________\ndense_1 (Dense)              (None, 1)                 513       \n=================================================================\nTotal params: 3,453,121\nTrainable params: 3,453,121\nNon-trainable params: 0\n_________________________________________________________________\n"
     ]
    }
   ],
   "source": [
    "from keras import layers\n",
    "from keras import models\n",
    "\n",
    "model = models.Sequential()\n",
    "model.add(layers.Conv2D(32,(3,3), activation='relu', input_shape=(150,150,3)))\n",
    "model.add(layers.MaxPooling2D(2,2))\n",
    "model.add(layers.Conv2D(64,(3,3), activation='relu'))\n",
    "model.add(layers.MaxPooling2D(2,2))\n",
    "model.add(layers.Conv2D(128,(3,3), activation='relu'))\n",
    "model.add(layers.MaxPooling2D(2,2))\n",
    "model.add(layers.Conv2D(128,(3,3), activation='relu'))\n",
    "model.add(layers.MaxPooling2D(2,2))\n",
    "model.add(layers.Flatten())\n",
    "model.add(layers.Dense(512, activation='relu'))\n",
    "model.add(layers.Dense(1, activation='sigmoid'))\n",
    "\n",
    "model.summary()\n",
    "\n",
    "from keras import models, layers, optimizers\n",
    "model.compile(loss='binary_crossentropy', optimizer=optimizers.RMSprop(lr=1e-4), metrics=['acc'])\n"
   ]
  },
  {
   "cell_type": "code",
   "execution_count": null,
   "metadata": {},
   "outputs": [],
   "source": []
  }
 ]
}