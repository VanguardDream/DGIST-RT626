{
 "metadata": {
  "language_info": {
   "codemirror_mode": {
    "name": "ipython",
    "version": 3
   },
   "file_extension": ".py",
   "mimetype": "text/x-python",
   "name": "python",
   "nbconvert_exporter": "python",
   "pygments_lexer": "ipython3",
   "version": 3
  },
  "orig_nbformat": 2
 },
 "nbformat": 4,
 "nbformat_minor": 2,
 "cells": [
  {
   "source": [
    "# RT626 HW2 RNN Design하여 감정 분류하기\n",
    "\n",
    "## IMDB Dataset 얻어오기\n"
   ],
   "cell_type": "markdown",
   "metadata": {}
  }
 ]
}